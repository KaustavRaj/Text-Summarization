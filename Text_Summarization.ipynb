{
  "nbformat": 4,
  "nbformat_minor": 0,
  "metadata": {
    "accelerator": "GPU",
    "colab": {
      "name": "Text Summarization.ipynb",
      "provenance": [],
      "collapsed_sections": [],
      "include_colab_link": true
    },
    "kernelspec": {
      "display_name": "Python 3",
      "language": "python",
      "name": "python3"
    },
    "language_info": {
      "codemirror_mode": {
        "name": "ipython",
        "version": 3
      },
      "file_extension": ".py",
      "mimetype": "text/x-python",
      "name": "python",
      "nbconvert_exporter": "python",
      "pygments_lexer": "ipython3",
      "version": "3.7.5"
    }
  },
  "cells": [
    {
      "cell_type": "markdown",
      "metadata": {
        "id": "view-in-github",
        "colab_type": "text"
      },
      "source": [
        "<a href=\"https://colab.research.google.com/github/KaustavRaj/Text-Summarization/blob/master/Text_Summarization.ipynb\" target=\"_parent\"><img src=\"https://colab.research.google.com/assets/colab-badge.svg\" alt=\"Open In Colab\"/></a>"
      ]
    },
    {
      "cell_type": "markdown",
      "metadata": {
        "colab_type": "text",
        "id": "Vf49qAonizPz"
      },
      "source": [
        "# Text Summarization\n",
        "##### *by Kaustav Bhattacharjee, IIIT Guwahati*\n",
        "---"
      ]
    },
    {
      "cell_type": "markdown",
      "metadata": {
        "colab_type": "text",
        "id": "_4z-8-4ei4QF"
      },
      "source": [
        "In this notebook, I'm building a summarizer step-by-step, based on **Amazon Fine Food Reviews** dataset, which I have stored in **/data** section but it can also be found at kaggle website."
      ]
    },
    {
      "cell_type": "markdown",
      "metadata": {
        "colab_type": "text",
        "id": "ur_-I-_Lm7EW"
      },
      "source": [
        "Let's first connect google colab to google drive, where I've saved my dataset."
      ]
    },
    {
      "cell_type": "code",
      "metadata": {
        "colab_type": "code",
        "id": "jaZCjnAsToJn",
        "outputId": "7714c4e6-d2f5-4b76-ef62-dddaaaf242ba",
        "colab": {
          "base_uri": "https://localhost:8080/",
          "height": 34
        }
      },
      "source": [
        "from google.colab import drive\n",
        "\n",
        "drive.mount('/content/gdrive')"
      ],
      "execution_count": 0,
      "outputs": [
        {
          "output_type": "stream",
          "text": [
            "Drive already mounted at /content/gdrive; to attempt to forcibly remount, call drive.mount(\"/content/gdrive\", force_remount=True).\n"
          ],
          "name": "stdout"
        }
      ]
    },
    {
      "cell_type": "markdown",
      "metadata": {
        "colab_type": "text",
        "id": "9d6sLE8zUAHG"
      },
      "source": [
        "## Importing Libraries"
      ]
    },
    {
      "cell_type": "code",
      "metadata": {
        "colab_type": "code",
        "id": "KWiygrk3T2O5",
        "outputId": "23d610bc-04d3-42ee-e4ad-6063a440db1e",
        "colab": {
          "base_uri": "https://localhost:8080/",
          "height": 51
        }
      },
      "source": [
        "import pandas as pd\n",
        "import numpy as np\n",
        "import matplotlib.pyplot as plt\n",
        "import re\n",
        "import tensorflow as tf\n",
        "from bs4 import BeautifulSoup\n",
        "from tensorflow.keras.layers import Bidirectional, LSTM, Input, Embedding, Dense, TimeDistributed, Concatenate, Attention\n",
        "from tensorflow.keras.models import Model, load_model\n",
        "from tensorflow.keras.callbacks import EarlyStopping\n",
        "from tensorflow.keras.preprocessing.text import Tokenizer\n",
        "from tensorflow.keras.preprocessing.sequence import pad_sequences\n",
        "from sklearn.model_selection import train_test_split\n",
        "import warnings\n",
        "warnings.filterwarnings('ignore')\n",
        "import nltk\n",
        "nltk.download('stopwords')\n",
        "from nltk.corpus import stopwords"
      ],
      "execution_count": 0,
      "outputs": [
        {
          "output_type": "stream",
          "text": [
            "[nltk_data] Downloading package stopwords to /root/nltk_data...\n",
            "[nltk_data]   Package stopwords is already up-to-date!\n"
          ],
          "name": "stdout"
        }
      ]
    },
    {
      "cell_type": "code",
      "metadata": {
        "colab_type": "code",
        "id": "m8bccQJWs5rW",
        "outputId": "df3caef6-e371-4c80-bbe7-72b68b1b81bf",
        "colab": {
          "base_uri": "https://localhost:8080/",
          "height": 326
        }
      },
      "source": [
        "!pip install contractions"
      ],
      "execution_count": 0,
      "outputs": [
        {
          "output_type": "stream",
          "text": [
            "Collecting contractions\n",
            "  Downloading https://files.pythonhosted.org/packages/85/41/c3dfd5feb91a8d587ed1a59f553f07c05f95ad4e5d00ab78702fbf8fe48a/contractions-0.0.24-py2.py3-none-any.whl\n",
            "Collecting textsearch\n",
            "  Downloading https://files.pythonhosted.org/packages/42/a8/03407021f9555043de5492a2bd7a35c56cc03c2510092b5ec018cae1bbf1/textsearch-0.0.17-py2.py3-none-any.whl\n",
            "Collecting pyahocorasick\n",
            "\u001b[?25l  Downloading https://files.pythonhosted.org/packages/f4/9f/f0d8e8850e12829eea2e778f1c90e3c53a9a799b7f412082a5d21cd19ae1/pyahocorasick-1.4.0.tar.gz (312kB)\n",
            "\u001b[K     |████████████████████████████████| 317kB 4.0MB/s \n",
            "\u001b[?25hCollecting Unidecode\n",
            "\u001b[?25l  Downloading https://files.pythonhosted.org/packages/d0/42/d9edfed04228bacea2d824904cae367ee9efd05e6cce7ceaaedd0b0ad964/Unidecode-1.1.1-py2.py3-none-any.whl (238kB)\n",
            "\u001b[K     |████████████████████████████████| 245kB 47.4MB/s \n",
            "\u001b[?25hBuilding wheels for collected packages: pyahocorasick\n",
            "  Building wheel for pyahocorasick (setup.py) ... \u001b[?25l\u001b[?25hdone\n",
            "  Created wheel for pyahocorasick: filename=pyahocorasick-1.4.0-cp36-cp36m-linux_x86_64.whl size=81703 sha256=c14986f4baea8a6d7a0d07f20cd924a90fb77cbceb3cddddd0fc19574dcca7bc\n",
            "  Stored in directory: /root/.cache/pip/wheels/0a/90/61/87a55f5b459792fbb2b7ba6b31721b06ff5cf6bde541b40994\n",
            "Successfully built pyahocorasick\n",
            "Installing collected packages: pyahocorasick, Unidecode, textsearch, contractions\n",
            "Successfully installed Unidecode-1.1.1 contractions-0.0.24 pyahocorasick-1.4.0 textsearch-0.0.17\n"
          ],
          "name": "stdout"
        }
      ]
    },
    {
      "cell_type": "code",
      "metadata": {
        "colab_type": "code",
        "id": "aVJXF2Nh3TkV",
        "colab": {}
      },
      "source": [
        "import contractions"
      ],
      "execution_count": 0,
      "outputs": []
    },
    {
      "cell_type": "code",
      "metadata": {
        "colab_type": "code",
        "id": "cpWJAFCQUPtW",
        "colab": {}
      },
      "source": [
        "dir_path = '/content/gdrive/My Drive/Colab Notebooks/Summarization/summarization v2'"
      ],
      "execution_count": 0,
      "outputs": []
    },
    {
      "cell_type": "markdown",
      "metadata": {
        "colab_type": "text",
        "id": "_xDdll4FUVnz"
      },
      "source": [
        "## Dataset Loading & Cleaning"
      ]
    },
    {
      "cell_type": "code",
      "metadata": {
        "colab_type": "code",
        "id": "PFsOlda93m8T",
        "colab": {}
      },
      "source": [
        "# Declaring the important variables here, which will be used later down the notebook\n",
        "\n",
        "_NROWS           =   100000\n",
        "_MAX_TEXT_LEN    =   0\n",
        "_MAX_SUMMARY_LEN =   0\n",
        "_TEXT_PADDING    =   'post'\n",
        "_EMBEDDING_DIM   =   500\n",
        "_ENCODER_DIM     =   300\n",
        "_DECODER_DIM     =   600\n",
        "_BATCH_SIZE      =   64\n",
        "_EPOCHS          =   40"
      ],
      "execution_count": 0,
      "outputs": []
    },
    {
      "cell_type": "code",
      "metadata": {
        "colab_type": "code",
        "id": "W1UKq_o_tJQb",
        "outputId": "f5378bec-1631-491c-fc55-0321e3f9d0c8",
        "colab": {
          "base_uri": "https://localhost:8080/",
          "height": 527
        }
      },
      "source": [
        "data = pd.read_csv(dir_path + '/data/Reviews.csv', nrows = _NROWS)\n",
        "data.drop_duplicates(subset = ['Text'], inplace = True)\n",
        "data.dropna(axis = 0, inplace = True)\n",
        "data.head()"
      ],
      "execution_count": 0,
      "outputs": [
        {
          "output_type": "execute_result",
          "data": {
            "text/html": [
              "<div>\n",
              "<style scoped>\n",
              "    .dataframe tbody tr th:only-of-type {\n",
              "        vertical-align: middle;\n",
              "    }\n",
              "\n",
              "    .dataframe tbody tr th {\n",
              "        vertical-align: top;\n",
              "    }\n",
              "\n",
              "    .dataframe thead th {\n",
              "        text-align: right;\n",
              "    }\n",
              "</style>\n",
              "<table border=\"1\" class=\"dataframe\">\n",
              "  <thead>\n",
              "    <tr style=\"text-align: right;\">\n",
              "      <th></th>\n",
              "      <th>Id</th>\n",
              "      <th>ProductId</th>\n",
              "      <th>UserId</th>\n",
              "      <th>ProfileName</th>\n",
              "      <th>HelpfulnessNumerator</th>\n",
              "      <th>HelpfulnessDenominator</th>\n",
              "      <th>Score</th>\n",
              "      <th>Time</th>\n",
              "      <th>Summary</th>\n",
              "      <th>Text</th>\n",
              "    </tr>\n",
              "  </thead>\n",
              "  <tbody>\n",
              "    <tr>\n",
              "      <th>0</th>\n",
              "      <td>1</td>\n",
              "      <td>B001E4KFG0</td>\n",
              "      <td>A3SGXH7AUHU8GW</td>\n",
              "      <td>delmartian</td>\n",
              "      <td>1</td>\n",
              "      <td>1</td>\n",
              "      <td>5</td>\n",
              "      <td>1303862400</td>\n",
              "      <td>Good Quality Dog Food</td>\n",
              "      <td>I have bought several of the Vitality canned d...</td>\n",
              "    </tr>\n",
              "    <tr>\n",
              "      <th>1</th>\n",
              "      <td>2</td>\n",
              "      <td>B00813GRG4</td>\n",
              "      <td>A1D87F6ZCVE5NK</td>\n",
              "      <td>dll pa</td>\n",
              "      <td>0</td>\n",
              "      <td>0</td>\n",
              "      <td>1</td>\n",
              "      <td>1346976000</td>\n",
              "      <td>Not as Advertised</td>\n",
              "      <td>Product arrived labeled as Jumbo Salted Peanut...</td>\n",
              "    </tr>\n",
              "    <tr>\n",
              "      <th>2</th>\n",
              "      <td>3</td>\n",
              "      <td>B000LQOCH0</td>\n",
              "      <td>ABXLMWJIXXAIN</td>\n",
              "      <td>Natalia Corres \"Natalia Corres\"</td>\n",
              "      <td>1</td>\n",
              "      <td>1</td>\n",
              "      <td>4</td>\n",
              "      <td>1219017600</td>\n",
              "      <td>\"Delight\" says it all</td>\n",
              "      <td>This is a confection that has been around a fe...</td>\n",
              "    </tr>\n",
              "    <tr>\n",
              "      <th>3</th>\n",
              "      <td>4</td>\n",
              "      <td>B000UA0QIQ</td>\n",
              "      <td>A395BORC6FGVXV</td>\n",
              "      <td>Karl</td>\n",
              "      <td>3</td>\n",
              "      <td>3</td>\n",
              "      <td>2</td>\n",
              "      <td>1307923200</td>\n",
              "      <td>Cough Medicine</td>\n",
              "      <td>If you are looking for the secret ingredient i...</td>\n",
              "    </tr>\n",
              "    <tr>\n",
              "      <th>4</th>\n",
              "      <td>5</td>\n",
              "      <td>B006K2ZZ7K</td>\n",
              "      <td>A1UQRSCLF8GW1T</td>\n",
              "      <td>Michael D. Bigham \"M. Wassir\"</td>\n",
              "      <td>0</td>\n",
              "      <td>0</td>\n",
              "      <td>5</td>\n",
              "      <td>1350777600</td>\n",
              "      <td>Great taffy</td>\n",
              "      <td>Great taffy at a great price.  There was a wid...</td>\n",
              "    </tr>\n",
              "  </tbody>\n",
              "</table>\n",
              "</div>"
            ],
            "text/plain": [
              "   Id  ...                                               Text\n",
              "0   1  ...  I have bought several of the Vitality canned d...\n",
              "1   2  ...  Product arrived labeled as Jumbo Salted Peanut...\n",
              "2   3  ...  This is a confection that has been around a fe...\n",
              "3   4  ...  If you are looking for the secret ingredient i...\n",
              "4   5  ...  Great taffy at a great price.  There was a wid...\n",
              "\n",
              "[5 rows x 10 columns]"
            ]
          },
          "metadata": {
            "tags": []
          },
          "execution_count": 9
        }
      ]
    },
    {
      "cell_type": "code",
      "metadata": {
        "colab_type": "code",
        "id": "Ku30l2oO9pbj",
        "colab": {}
      },
      "source": [
        "def cleaner(text, remove_stopwords=True):\n",
        "  \"\"\"removes url's, nltk's stopwords and anything which is not an alphabet\"\"\"\n",
        "  \n",
        "  stop_words = set(stopwords.words('english'))\n",
        "  text = re.sub(r'^https?:\\/\\/.*[\\r\\n]*', '', text.lower(), flags=re.MULTILINE)\n",
        "  text = re.sub(r'[^a-zA-Z]', ' ', text)\n",
        "  text = contractions.fix(text, slang=False)\n",
        "  if remove_stopwords:\n",
        "    text = ' '.join([word for word in text.split() if word not in stop_words]).strip()\n",
        "  return text"
      ],
      "execution_count": 0,
      "outputs": []
    },
    {
      "cell_type": "code",
      "metadata": {
        "colab_type": "code",
        "id": "JQFJOPcWtaj5",
        "outputId": "9da83c02-d7df-467a-c46c-a2d638a2b8dd",
        "colab": {
          "base_uri": "https://localhost:8080/",
          "height": 34
        }
      },
      "source": [
        "from time import time\n",
        "from math import ceil\n",
        "\n",
        "t1 = time()\n",
        "cleaned_text = []\n",
        "for t in data['Text']:\n",
        "    cleaned_text.append(cleaner(t))\n",
        "\n",
        "t2 = time()\n",
        "cleaned_summary = []\n",
        "for t in data['Summary']:\n",
        "    cleaned_summary.append(cleaner(t, remove_stopwords = False))\n",
        "\n",
        "t3 = time()\n",
        "print('Text cleaned in {} sec, and Summary in {} sec'.format(ceil(t2-t1), ceil(t3-t2)))\n",
        "\n",
        "data = pd.DataFrame({\n",
        "    'text'    :   cleaned_text,\n",
        "    'summary' :   cleaned_summary})\n",
        "\n",
        "data.replace('', np.nan, inplace = True)\n",
        "data.dropna(axis = 0, inplace = True)"
      ],
      "execution_count": 0,
      "outputs": [
        {
          "output_type": "stream",
          "text": [
            "Text cleaned in 21 sec, and Summary in 15 sec\n"
          ],
          "name": "stdout"
        }
      ]
    },
    {
      "cell_type": "code",
      "metadata": {
        "colab_type": "code",
        "id": "SgH33OrGNxyB",
        "colab": {}
      },
      "source": [
        "data.reset_index(inplace=True, drop=True)"
      ],
      "execution_count": 0,
      "outputs": []
    },
    {
      "cell_type": "code",
      "metadata": {
        "colab_type": "code",
        "id": "TbKwk06uL4vM",
        "outputId": "667d4bbc-d867-4339-ba50-7d633de6c82e",
        "colab": {
          "base_uri": "https://localhost:8080/",
          "height": 34
        }
      },
      "source": [
        "data.shape"
      ],
      "execution_count": 0,
      "outputs": [
        {
          "output_type": "execute_result",
          "data": {
            "text/plain": [
              "(88418, 2)"
            ]
          },
          "metadata": {
            "tags": []
          },
          "execution_count": 13
        }
      ]
    },
    {
      "cell_type": "code",
      "metadata": {
        "colab_type": "code",
        "id": "o498BXSrcuq4",
        "colab": {}
      },
      "source": [
        "data.to_csv(dir_path + '/data/cleaned_amazon_reviews_dataset.csv', index=False)"
      ],
      "execution_count": 0,
      "outputs": []
    },
    {
      "cell_type": "markdown",
      "metadata": {
        "colab_type": "text",
        "id": "VRC6jq-3jVCq"
      },
      "source": [
        "## Visualizing the Text Data"
      ]
    },
    {
      "cell_type": "code",
      "metadata": {
        "colab_type": "code",
        "id": "JGBzJTxPisLp",
        "outputId": "0bc18f2e-0131-4bfe-a288-27b4b303415f",
        "colab": {
          "base_uri": "https://localhost:8080/",
          "height": 607
        }
      },
      "source": [
        "text_word_count    = []\n",
        "summary_word_count = []\n",
        "\n",
        "for i in data['text']:\n",
        "      text_word_count.append(len(i.split()))\n",
        "\n",
        "for i in data['summary']:\n",
        "      summary_word_count.append(len(i.split()))\n",
        "\n",
        "visualize = pd.DataFrame({'text':text_word_count, 'summary':summary_word_count})\n",
        "visualize.hist(bins = 50)\n",
        "plt.rcParams['figure.figsize'] = (10, 10)\n",
        "plt.show()"
      ],
      "execution_count": 0,
      "outputs": [
        {
          "output_type": "display_data",
          "data": {
            "image/png": "[encoded data removed]",
            "text/plain": [
              "<Figure size 1080x720 with 2 Axes>"
            ]
          },
          "metadata": {
            "tags": []
          }
        }
      ]
    },
    {
      "cell_type": "code",
      "metadata": {
        "colab_type": "code",
        "id": "jc0Can2OL_hG",
        "outputId": "966c982e-84e6-424c-b2e2-1c50887b0cba",
        "colab": {
          "base_uri": "https://localhost:8080/",
          "height": 34
        }
      },
      "source": [
        "cnt = 0\n",
        "for i in range(data.shape[0]):\n",
        "  if len(data['text'][i].split()) <= 60 and len(data['summary'][i].split()) <= 10:\n",
        "    cnt += 1\n",
        "print(cnt)"
      ],
      "execution_count": 0,
      "outputs": [
        {
          "output_type": "stream",
          "text": [
            "70707\n"
          ],
          "name": "stdout"
        }
      ]
    },
    {
      "cell_type": "markdown",
      "metadata": {
        "colab_type": "text",
        "id": "lJbCyzxEsJc2"
      },
      "source": [
        "It's nearly 80% of our dataset, so its fairly decent in size as well."
      ]
    },
    {
      "cell_type": "code",
      "metadata": {
        "colab_type": "code",
        "id": "jr9KdnznisYq",
        "colab": {}
      },
      "source": [
        "_MAX_SUMMARY_LEN = 10\n",
        "_MAX_TEXT_LEN    = 60"
      ],
      "execution_count": 0,
      "outputs": []
    },
    {
      "cell_type": "code",
      "metadata": {
        "colab_type": "code",
        "id": "g7Q0dou9URrd",
        "colab": {}
      },
      "source": [
        "def prepare(dataset):\n",
        "  global _MAX_SUMMARY_LEN, _MAX_TEXT_LEN\n",
        "  newtext    =  []\n",
        "  newsummary =  []\n",
        "  \n",
        "  for i in range(len(dataset['text'])):\n",
        "    if len(dataset['text'][i].split()) <= _MAX_TEXT_LEN and len(dataset['summary'][i].split()) <= _MAX_SUMMARY_LEN:\n",
        "      newtext.append(dataset['text'][i])\n",
        "      newsummary.append(dataset['summary'][i])\n",
        "\n",
        "  dataset = pd.DataFrame({'text'    : newtext,\n",
        "                          'summary' : newsummary})\n",
        "  dataset['summary'] = dataset['summary'].apply(lambda row : 'stok ' + row + ' etok')\n",
        "  dataset.reset_index(drop=True, inplace=True)\n",
        "  return dataset"
      ],
      "execution_count": 0,
      "outputs": []
    },
    {
      "cell_type": "code",
      "metadata": {
        "colab_type": "code",
        "id": "ANB2RbiwLDFD",
        "colab": {}
      },
      "source": [
        "df = prepare(data)"
      ],
      "execution_count": 0,
      "outputs": []
    },
    {
      "cell_type": "code",
      "metadata": {
        "colab_type": "code",
        "id": "zRJha9lPURw-",
        "outputId": "17c6cabb-0a0d-4222-c660-6671966d3cf8",
        "colab": {
          "base_uri": "https://localhost:8080/",
          "height": 34
        }
      },
      "source": [
        "df.shape"
      ],
      "execution_count": 0,
      "outputs": [
        {
          "output_type": "execute_result",
          "data": {
            "text/plain": [
              "(70707, 2)"
            ]
          },
          "metadata": {
            "tags": []
          },
          "execution_count": 29
        }
      ]
    },
    {
      "cell_type": "code",
      "metadata": {
        "colab_type": "code",
        "id": "PSi6hKAbdC7E",
        "colab": {}
      },
      "source": [
        "df.to_csv(dir_path + '/data/prepared_amazon_reviews_dataset.csv', index=False)"
      ],
      "execution_count": 0,
      "outputs": []
    },
    {
      "cell_type": "markdown",
      "metadata": {
        "colab_type": "text",
        "id": "5SGi36lpYAO-"
      },
      "source": [
        "## Training-Validation Data Splitting"
      ]
    },
    {
      "cell_type": "markdown",
      "metadata": {
        "colab_type": "text",
        "id": "izp5fcf7mIDh"
      },
      "source": [
        "Loading the data here if its already cleaned."
      ]
    },
    {
      "cell_type": "code",
      "metadata": {
        "colab_type": "code",
        "id": "tRgvDjlHl222",
        "colab": {}
      },
      "source": [
        "df = pd.read_csv(dir_path + '/data/prepared_amazon_reviews_dataset.csv')[['text', 'summary']]"
      ],
      "execution_count": 0,
      "outputs": []
    },
    {
      "cell_type": "code",
      "metadata": {
        "colab_type": "code",
        "id": "ufhDr9KHuane",
        "outputId": "69e5d42d-13cc-4762-adcd-16496a8af3f7",
        "colab": {
          "base_uri": "https://localhost:8080/",
          "height": 204
        }
      },
      "source": [
        "df.head()"
      ],
      "execution_count": 0,
      "outputs": [
        {
          "output_type": "execute_result",
          "data": {
            "text/html": [
              "<div>\n",
              "<style scoped>\n",
              "    .dataframe tbody tr th:only-of-type {\n",
              "        vertical-align: middle;\n",
              "    }\n",
              "\n",
              "    .dataframe tbody tr th {\n",
              "        vertical-align: top;\n",
              "    }\n",
              "\n",
              "    .dataframe thead th {\n",
              "        text-align: right;\n",
              "    }\n",
              "</style>\n",
              "<table border=\"1\" class=\"dataframe\">\n",
              "  <thead>\n",
              "    <tr style=\"text-align: right;\">\n",
              "      <th></th>\n",
              "      <th>text</th>\n",
              "      <th>summary</th>\n",
              "    </tr>\n",
              "  </thead>\n",
              "  <tbody>\n",
              "    <tr>\n",
              "      <th>0</th>\n",
              "      <td>bought several vitality canned dog food produc...</td>\n",
              "      <td>stok good quality dog food etok</td>\n",
              "    </tr>\n",
              "    <tr>\n",
              "      <th>1</th>\n",
              "      <td>product arrived labeled jumbo salted peanuts p...</td>\n",
              "      <td>stok not as advertised etok</td>\n",
              "    </tr>\n",
              "    <tr>\n",
              "      <th>2</th>\n",
              "      <td>confection around centuries light pillowy citr...</td>\n",
              "      <td>stok  delight  says it all etok</td>\n",
              "    </tr>\n",
              "    <tr>\n",
              "      <th>3</th>\n",
              "      <td>looking secret ingredient robitussin believe f...</td>\n",
              "      <td>stok cough medicine etok</td>\n",
              "    </tr>\n",
              "    <tr>\n",
              "      <th>4</th>\n",
              "      <td>great taffy great price wide assortment yummy ...</td>\n",
              "      <td>stok great taffy etok</td>\n",
              "    </tr>\n",
              "  </tbody>\n",
              "</table>\n",
              "</div>"
            ],
            "text/plain": [
              "                                                text                          summary\n",
              "0  bought several vitality canned dog food produc...  stok good quality dog food etok\n",
              "1  product arrived labeled jumbo salted peanuts p...      stok not as advertised etok\n",
              "2  confection around centuries light pillowy citr...  stok  delight  says it all etok\n",
              "3  looking secret ingredient robitussin believe f...         stok cough medicine etok\n",
              "4  great taffy great price wide assortment yummy ...            stok great taffy etok"
            ]
          },
          "metadata": {
            "tags": []
          },
          "execution_count": 0
        }
      ]
    },
    {
      "cell_type": "code",
      "metadata": {
        "colab_type": "code",
        "id": "K8CKXSjeUR4P",
        "colab": {}
      },
      "source": [
        "x_tr, x_val, y_tr, y_val = train_test_split(np.array(df['text']), np.array(df['summary']),\n",
        "                                       test_size=0.1, random_state=42)"
      ],
      "execution_count": 0,
      "outputs": []
    },
    {
      "cell_type": "code",
      "metadata": {
        "colab_type": "code",
        "id": "87HDi5dkjnm-",
        "colab": {}
      },
      "source": [
        "# preparing 'text' for model training and validation\n",
        "tok_x  = Tokenizer()\n",
        "tok_x.fit_on_texts(list(x_tr))\n",
        "x_tr    =  pad_sequences(tok_x.texts_to_sequences(x_tr),  maxlen=_MAX_TEXT_LEN, padding=_TEXT_PADDING)\n",
        "x_val   =  pad_sequences(tok_x.texts_to_sequences(x_val), maxlen=_MAX_TEXT_LEN, padding=_TEXT_PADDING)\n",
        "vocab_x =  len(tok_x.word_counts) + 1"
      ],
      "execution_count": 0,
      "outputs": []
    },
    {
      "cell_type": "code",
      "metadata": {
        "colab_type": "code",
        "id": "egSUyJyOmsE7",
        "outputId": "5e8a5696-6001-43cb-ec30-c6acab0d4a99",
        "colab": {
          "base_uri": "https://localhost:8080/",
          "height": 34
        }
      },
      "source": [
        "vocab_x"
      ],
      "execution_count": 0,
      "outputs": [
        {
          "output_type": "execute_result",
          "data": {
            "text/plain": [
              "35209"
            ]
          },
          "metadata": {
            "tags": []
          },
          "execution_count": 0
        }
      ]
    },
    {
      "cell_type": "code",
      "metadata": {
        "colab_type": "code",
        "id": "G8OYAQzUvhqt",
        "colab": {}
      },
      "source": [
        "# preparing 'summary' for model training and validation\n",
        "tok_y  = Tokenizer()\n",
        "tok_y.fit_on_texts(list(y_tr))\n",
        "y_tr    =  pad_sequences(tok_y.texts_to_sequences(y_tr),  maxlen=_MAX_TEXT_LEN, padding=_TEXT_PADDING)\n",
        "y_val   =  pad_sequences(tok_y.texts_to_sequences(y_val), maxlen=_MAX_TEXT_LEN, padding=_TEXT_PADDING)\n",
        "vocab_y =  len(tok_y.word_counts) + 1"
      ],
      "execution_count": 0,
      "outputs": []
    },
    {
      "cell_type": "code",
      "metadata": {
        "colab_type": "code",
        "id": "LNiVCaG5V2eB",
        "colab": {}
      },
      "source": [
        "with open(dir_path + '/data/tok_x.pickle', 'wb') as f:\n",
        "  pickle.dump(tok_x, f)"
      ],
      "execution_count": 0,
      "outputs": []
    },
    {
      "cell_type": "code",
      "metadata": {
        "colab_type": "code",
        "id": "BxWLdYz-jnh4",
        "outputId": "eb5ffacc-7087-4834-e963-c957d5956e6d",
        "colab": {
          "base_uri": "https://localhost:8080/",
          "height": 34
        }
      },
      "source": [
        "vocab_y"
      ],
      "execution_count": 0,
      "outputs": [
        {
          "output_type": "execute_result",
          "data": {
            "text/plain": [
              "11876"
            ]
          },
          "metadata": {
            "tags": []
          },
          "execution_count": 0
        }
      ]
    },
    {
      "cell_type": "code",
      "metadata": {
        "colab_type": "code",
        "id": "sZ95yxZGjndz",
        "outputId": "c822f296-ca7f-4bb8-93a9-687d603991e9",
        "colab": {
          "base_uri": "https://localhost:8080/",
          "height": 34
        }
      },
      "source": [
        "tok_y.word_counts['stok'], len(y_tr)"
      ],
      "execution_count": 0,
      "outputs": [
        {
          "output_type": "execute_result",
          "data": {
            "text/plain": [
              "(63636, 63636)"
            ]
          },
          "metadata": {
            "tags": []
          },
          "execution_count": 0
        }
      ]
    },
    {
      "cell_type": "code",
      "metadata": {
        "colab_type": "code",
        "id": "_U_fDYsx9yoo",
        "colab": {}
      },
      "source": [
        "index_to_word_text    =  tok_x.index_word\n",
        "index_to_word_summary =  tok_y.index_word\n",
        "word_to_index_summary =  tok_y.word_index"
      ],
      "execution_count": 0,
      "outputs": []
    },
    {
      "cell_type": "code",
      "metadata": {
        "colab_type": "code",
        "id": "RLul_vbvvuDs",
        "colab": {}
      },
      "source": [
        "import pickle\n",
        "with open(dir_path + '/data/word_indices_mapping.pickle', 'wb') as f:\n",
        "  store = [index_to_word_text, index_to_word_summary, word_to_index_summary]\n",
        "  pickle.dump(store, f)"
      ],
      "execution_count": 0,
      "outputs": []
    },
    {
      "cell_type": "markdown",
      "metadata": {
        "colab_type": "text",
        "id": "e8vrQjknpsdm"
      },
      "source": [
        "## Model Building"
      ]
    },
    {
      "cell_type": "markdown",
      "metadata": {
        "colab_type": "text",
        "id": "rdgb0IO1odXy"
      },
      "source": [
        "A simple Sequence to Sequence encoder-decoder model has been used, where a bidirectional lstm is used as encoder and a unidirectional lstm for decoder with attention layer."
      ]
    },
    {
      "cell_type": "code",
      "metadata": {
        "colab_type": "code",
        "id": "3ErjwaMmwVTS",
        "outputId": "9b3d4763-5d92-47a1-a6e4-97070baaaf66",
        "colab": {
          "base_uri": "https://localhost:8080/",
          "height": 629
        }
      },
      "source": [
        "# Encoder\n",
        "encoder_input  =  Input(shape=(_MAX_TEXT_LEN,), name='Encoder_input')\n",
        "encoder_embed  =  Embedding(vocab_x, _EMBEDDING_DIM, trainable=True, name='Encoder_embedding')(encoder_input)\n",
        "encoder        =  Bidirectional(LSTM(_ENCODER_DIM, \n",
        "                                     return_sequences=True,\n",
        "                                     return_state=True,\n",
        "                                     dropout=0.4, recurrent_dropout=0.4), name='Encoder_layer')\n",
        "encoder_output, forward_h, forward_c, backward_h, backward_c = encoder(encoder_embed)\n",
        "state_h        =  Concatenate()([forward_h, backward_h])\n",
        "state_c        =  Concatenate()([forward_c, backward_c])\n",
        "\n",
        "# Decoder\n",
        "decoder_input        =  Input(shape=(None,), name='Decoder_input')\n",
        "decoder_embed_layer  =  Embedding(vocab_y, _EMBEDDING_DIM, trainable=True, name='Decoder_embedding')\n",
        "decoder_embed        =  decoder_embed_layer(decoder_input)\n",
        "decoder              =  LSTM(_DECODER_DIM,\n",
        "                             return_sequences=True,\n",
        "                             return_state=True,\n",
        "                             dropout=0.4, recurrent_dropout=0.3, name='Decoder_layer')\n",
        "decoder_output, decoder_state_h, decoder_state_c = decoder(decoder_embed,initial_state=[state_h, state_c])\n",
        "\n",
        "# Attention layer\n",
        "attention_layer =  Attention(name='Attention_layer')\n",
        "attention_out   =  attention_layer([decoder_output, encoder_output])\n",
        "\n",
        "# Concat attention layer's output and decoder's output\n",
        "concat_layer    =  Concatenate(axis=-1, name='Concat_layer')([decoder_output, attention_out])\n",
        "\n",
        "# Dense layer\n",
        "decoder_dense   =  TimeDistributed(Dense(vocab_y, activation='softmax'))\n",
        "decoder_output  =  decoder_dense(concat_layer)\n",
        "\n",
        "# Model \n",
        "model           =  Model([encoder_input, decoder_input], decoder_output, name='Model')\n",
        "\n",
        "model.summary()"
      ],
      "execution_count": 0,
      "outputs": [
        {
          "output_type": "stream",
          "text": [
            "Model: \"Model\"\n",
            "__________________________________________________________________________________________________\n",
            "Layer (type)                    Output Shape         Param #     Connected to                     \n",
            "==================================================================================================\n",
            "Encoder_input (InputLayer)      [(None, 60)]         0                                            \n",
            "__________________________________________________________________________________________________\n",
            "Encoder_embedding (Embedding)   (None, 60, 500)      17604500    Encoder_input[0][0]              \n",
            "__________________________________________________________________________________________________\n",
            "Decoder_input (InputLayer)      [(None, None)]       0                                            \n",
            "__________________________________________________________________________________________________\n",
            "Encoder_layer (Bidirectional)   [(None, 60, 600), (N 1922400     Encoder_embedding[0][0]          \n",
            "__________________________________________________________________________________________________\n",
            "Decoder_embedding (Embedding)   (None, None, 500)    5938000     Decoder_input[0][0]              \n",
            "__________________________________________________________________________________________________\n",
            "concatenate_3 (Concatenate)     (None, 600)          0           Encoder_layer[0][1]              \n",
            "                                                                 Encoder_layer[0][3]              \n",
            "__________________________________________________________________________________________________\n",
            "concatenate_4 (Concatenate)     (None, 600)          0           Encoder_layer[0][2]              \n",
            "                                                                 Encoder_layer[0][4]              \n",
            "__________________________________________________________________________________________________\n",
            "Decoder_layer (LSTM)            [(None, None, 600),  2642400     Decoder_embedding[0][0]          \n",
            "                                                                 concatenate_3[0][0]              \n",
            "                                                                 concatenate_4[0][0]              \n",
            "__________________________________________________________________________________________________\n",
            "Attention_layer (Attention)     (None, None, 600)    0           Decoder_layer[0][0]              \n",
            "                                                                 Encoder_layer[0][0]              \n",
            "__________________________________________________________________________________________________\n",
            "Concat_layer (Concatenate)      (None, None, 1200)   0           Decoder_layer[0][0]              \n",
            "                                                                 Attention_layer[0][0]            \n",
            "__________________________________________________________________________________________________\n",
            "time_distributed_1 (TimeDistrib (None, None, 11876)  14263076    Concat_layer[0][0]               \n",
            "==================================================================================================\n",
            "Total params: 42,370,376\n",
            "Trainable params: 42,370,376\n",
            "Non-trainable params: 0\n",
            "__________________________________________________________________________________________________\n"
          ],
          "name": "stdout"
        }
      ]
    },
    {
      "cell_type": "code",
      "metadata": {
        "colab_type": "code",
        "id": "Kdib3Z0C0LLE",
        "outputId": "a2233281-4984-4609-8bf1-ccae1b813961",
        "colab": {
          "base_uri": "https://localhost:8080/",
          "height": 289
        }
      },
      "source": [
        "model.compile(optimizer='adam', loss='sparse_categorical_crossentropy')\n",
        "\n",
        "stopearly =  EarlyStopping(monitor='val_loss', mode='min', verbose=1, patience=2)\n",
        "X         =  [x_tr,y_tr[:,:-1]]\n",
        "y         =  y_tr.reshape(y_tr.shape[0], y_tr.shape[1], 1)[:,1:]\n",
        "VAL_X     =  [x_val,y_val[:,:-1]]\n",
        "VAL_y     =  y_val.reshape(y_val.shape[0], y_val.shape[1], 1)[:,1:]\n",
        "history   =  model.fit(X, y, epochs=_EPOCHS, callbacks=[stopearly], batch_size=_BATCH_SIZE, validation_data=(VAL_X, VAL_y))"
      ],
      "execution_count": 0,
      "outputs": [
        {
          "output_type": "stream",
          "text": [
            "Train on 63636 samples, validate on 7071 samples\n",
            "Epoch 1/40\n",
            "63636/63636 [==============================] - 729s 11ms/sample - loss: 0.4785 - val_loss: 0.3771\n",
            "Epoch 2/40\n",
            "63636/63636 [==============================] - 723s 11ms/sample - loss: 0.3661 - val_loss: 0.3342\n",
            "Epoch 3/40\n",
            "63636/63636 [==============================] - 724s 11ms/sample - loss: 0.3234 - val_loss: 0.3150\n",
            "Epoch 4/40\n",
            "63636/63636 [==============================] - 724s 11ms/sample - loss: 0.2888 - val_loss: 0.3055\n",
            "Epoch 5/40\n",
            "63636/63636 [==============================] - 721s 11ms/sample - loss: 0.2570 - val_loss: 0.3044\n",
            "Epoch 6/40\n",
            "63636/63636 [==============================] - 724s 11ms/sample - loss: 0.2265 - val_loss: 0.3080\n",
            "Epoch 7/40\n",
            "63636/63636 [==============================] - 725s 11ms/sample - loss: 0.1982 - val_loss: 0.3145\n",
            "Epoch 00007: early stopping\n"
          ],
          "name": "stdout"
        }
      ]
    },
    {
      "cell_type": "code",
      "metadata": {
        "colab_type": "code",
        "id": "0-JB5cg35_b4",
        "outputId": "c5561f52-4c6c-4c9c-b2bf-d0cccc184c28",
        "colab": {
          "base_uri": "https://localhost:8080/",
          "height": 295
        }
      },
      "source": [
        "# For loss\n",
        "plt.plot(history.history['loss'])\n",
        "plt.plot(history.history['val_loss'])\n",
        "plt.title('model loss')\n",
        "plt.xlabel('no. of epochs')\n",
        "plt.ylabel('loss')\n",
        "plt.legend(['train', 'validate'], loc='upper right')\n",
        "plt.show()"
      ],
      "execution_count": 0,
      "outputs": [
        {
          "output_type": "display_data",
          "data": {
            "image/png": "[encoded data removed]",
            "text/plain": [
              "<Figure size 432x288 with 1 Axes>"
            ]
          },
          "metadata": {
            "tags": []
          }
        }
      ]
    },
    {
      "cell_type": "code",
      "metadata": {
        "colab_type": "code",
        "id": "NK_t0ej5XQZj",
        "colab": {}
      },
      "source": [
        "_MODEL_NAME = 'model_3'\n",
        "model.save(dir_path + '/models/{}.h5'.format(_MODEL_NAME))"
      ],
      "execution_count": 0,
      "outputs": []
    },
    {
      "cell_type": "code",
      "metadata": {
        "colab_type": "code",
        "id": "uDrmmKkJXXec",
        "colab": {}
      },
      "source": [
        "import json\n",
        "\n",
        "specs = {\n",
        "    'model_name' : _MODEL_NAME,\n",
        "    'embedding_dim'  : _EMBEDDING_DIM,\n",
        "    'encoder' : [{'type':'bi-LSTM', 'dim':_ENCODER_DIM}],\n",
        "    'decoder' : [{'type':'LSTM', 'dim': _DECODER_DIM}],\n",
        "    'attention' : {\n",
        "        'used' : True,\n",
        "        'type' : 'Luong'\n",
        "    },\n",
        "    'batch_size' : _BATCH_SIZE,\n",
        "    'epochs_completed' : 7,\n",
        "    'max_text_len' : _MAX_TEXT_LEN,\n",
        "    'max_summary_len' : _MAX_SUMMARY_LEN,\n",
        "    'nrows_dataset' : {\n",
        "        'total' : 100000,\n",
        "        'used' : 70707\n",
        "    },\n",
        "    'additional' : \"\"\n",
        "}\n",
        "\n",
        "with open(dir_path + '/models/specs3.json', 'a+') as f:\n",
        "  json.dump(specs, f)"
      ],
      "execution_count": 0,
      "outputs": []
    },
    {
      "cell_type": "markdown",
      "metadata": {
        "colab_type": "text",
        "id": "c3cHH7789s2C"
      },
      "source": [
        "## Inference"
      ]
    },
    {
      "cell_type": "code",
      "metadata": {
        "colab_type": "code",
        "id": "M_ckN-vUjnOC",
        "colab": {}
      },
      "source": [
        "encoder_model = Model(inputs  = encoder_input,\n",
        "                outputs = [encoder_output, state_h, state_c])\n",
        "\n",
        "# For storing decoder's previous states which will act as our encoder here\n",
        "decoder_previous_state_h = Input(shape=(_DECODER_DIM,))\n",
        "decoder_previous_state_c = Input(shape=(_DECODER_DIM,))\n",
        "decoder_previous_output  = Input(shape=(_MAX_TEXT_LEN, _DECODER_DIM))\n",
        "\n",
        "# This new decoder will take the 'previous decoder' i.e, our encoder's output\n",
        "decoder_embed_new = decoder_embed_layer(decoder_input)\n",
        "decoder_output_new, state_h_new, state_c_new = decoder(decoder_embed_new,\n",
        "                                                       initial_state = [decoder_previous_state_h, decoder_previous_state_c])\n",
        "\n",
        "# Attention layer & concat layer for the new decoder and encoder\n",
        "attention_out_new    =  attention_layer([decoder_output_new, decoder_previous_output])\n",
        "concat_layer_final   =  Concatenate(axis=-1)([decoder_output_new, attention_out_new])\n",
        "\n",
        "# A dense softmax layer to generate prob dist. over the target vocabulary\n",
        "decoder_output_final =  decoder_dense(concat_layer_final)\n",
        "\n",
        "# Final decoder model\n",
        "decoder_model = Model(\n",
        "    [decoder_input] + [decoder_previous_output, decoder_previous_state_h, decoder_previous_state_c],\n",
        "    [decoder_output_final] + [state_h_new, state_c_new])"
      ],
      "execution_count": 0,
      "outputs": []
    },
    {
      "cell_type": "code",
      "metadata": {
        "colab_type": "code",
        "id": "RW8qxy6cpK0c",
        "colab": {}
      },
      "source": [
        "# saving encoder_model and decoder_model for later use\n",
        "\n",
        "encoder_model.save(dir_path + '/models/encoder_model.h5')\n",
        "decoder_model.save(dir_path + '/models/decoder_model.h5')"
      ],
      "execution_count": 0,
      "outputs": []
    },
    {
      "cell_type": "code",
      "metadata": {
        "colab_type": "code",
        "id": "pPS8uc1JjnLq",
        "colab": {}
      },
      "source": [
        "# Summarizes an input sequence to the final sequence by making the encoder-decoder model \n",
        "# predict 1 word at a time\n",
        "\n",
        "def summarizer(input_seq):\n",
        "    encoder_out, encoder_h, encoder_c = encoder_model.predict(input_seq)\n",
        "    target_seq = np.zeros((1,1))\n",
        "    target_seq[0, 0] = word_to_index_summary['stok']\n",
        "    stop_condition = False\n",
        "    decoded_sentence = ''\n",
        "\n",
        "    while not stop_condition:\n",
        "        output_tokens, h, c = decoder_model.predict([target_seq] + [encoder_out, encoder_h, encoder_c])\n",
        "        # Greedy decoder\n",
        "        sampled_token_index = np.argmax(output_tokens[0, -1, :])\n",
        "        sampled_token = index_to_word_summary[sampled_token_index]\n",
        "        \n",
        "        if sampled_token != 'etok':\n",
        "            decoded_sentence += sampled_token + ' '\n",
        "\n",
        "        if sampled_token == 'etok' or len(decoded_sentence.split()) >= (_MAX_SUMMARY_LEN-1):\n",
        "            stop_condition = True\n",
        "\n",
        "        target_seq = np.zeros((1,1))\n",
        "        target_seq[0, 0] = sampled_token_index\n",
        "\n",
        "        encoder_h, encoder_c = h, c\n",
        "\n",
        "    return decoded_sentence"
      ],
      "execution_count": 0,
      "outputs": []
    },
    {
      "cell_type": "code",
      "metadata": {
        "colab_type": "code",
        "id": "Ymmhhqz3jnIK",
        "colab": {}
      },
      "source": [
        "def sequence_to_summary(input_seq):\n",
        "    s = ''\n",
        "    for i in input_seq:\n",
        "        if i != 0 and i != word_to_index_summary['stok'] and i != word_to_index_summary['etok']:\n",
        "            s += index_to_word_summary[i] + ' '\n",
        "    return s\n",
        "\n",
        "def sequence_to_text(input_seq):\n",
        "    s = ''\n",
        "    for i in input_seq:\n",
        "        if i != 0:\n",
        "            s += index_to_word_text[i] + ' '\n",
        "    return s"
      ],
      "execution_count": 0,
      "outputs": []
    },
    {
      "cell_type": "markdown",
      "metadata": {
        "colab_type": "text",
        "id": "KCzEm7BCj5RV"
      },
      "source": [
        "Let's test it on a few examples from our dataset itself"
      ]
    },
    {
      "cell_type": "markdown",
      "metadata": {
        "colab_type": "text",
        "id": "VaKCIdtZnNWM"
      },
      "source": [
        "First from the training dataset"
      ]
    },
    {
      "cell_type": "code",
      "metadata": {
        "colab_type": "code",
        "id": "qMsmXxMWnJ2g",
        "outputId": "e1e9896a-93ca-4d09-a2f0-0af8c8488450",
        "colab": {
          "base_uri": "https://localhost:8080/",
          "height": 462
        }
      },
      "source": [
        "for i in range(5):\n",
        "    print(\"Review:\",sequence_to_text(x_tr[i]))\n",
        "    print(\"Original summary:\",sequence_to_summary(y_tr[i]))\n",
        "    print(\"Predicted summary:\",summarizer(x_tr[i].reshape(1,_MAX_TEXT_LEN)))\n",
        "    print(\"\\n\")"
      ],
      "execution_count": 0,
      "outputs": [
        {
          "output_type": "stream",
          "text": [
            "Review: purchased macha health food store figured best quality assuming bright color smell best good macha tea better opinion color darker smell stronger told going potent tried far gives great boost body likes well highly sensative put body happy feel made great choice company product plan buy future \n",
            "Original summary: better than expected \n",
            "Predicted summary: better than expected \n",
            "\n",
            "\n",
            "Review: health food low calorie alternatives disgusting smelled gross package first opened big deal follwed directions exactly wash noodles blanch boiling water cook sauteed soy sauce olive oil flavor ok really much flavor soaked soy sauce nicely texture however along lines poorly cooked calamari rubbery almost little slimy ew br br also know return grocery items amazon pretty much stuck buy \n",
            "Original summary: entirely inedible \n",
            "Predicted summary: entirely inedible \n",
            "\n",
            "\n",
            "Review: cat iron stomach eat absolutely anything everything always getting human food never thrown gave treats within minutes wheezing throwing carpet connect first gave treats next day exact reaction br br tried several different flavors brand reaction trying cat st time give wait see react give anymore \n",
            "Original summary: caused my normally iron kitty to vomit \n",
            "Predicted summary: cat loves it \n",
            "\n",
            "\n",
            "Review: looked everywhere red foil covered kisses finally found arrived quickly packed perfectly melt get crushed \n",
            "Original summary: hershey kisses in red foil \n",
            "Predicted summary: excellent product \n",
            "\n",
            "\n",
            "Review: almost want write review want vinegar get sorry thickness vinegar reduced aged long well vinegar nice sweetness unbelievable since contributes flavor undistracting way great topping caprese prosciutto serrano ham possibilities endless \n",
            "Original summary: incredible balsamic \n",
            "Predicted summary: the best balsamic vinegar \n",
            "\n",
            "\n"
          ],
          "name": "stdout"
        }
      ]
    },
    {
      "cell_type": "markdown",
      "metadata": {
        "colab_type": "text",
        "id": "ZC7vVJC6nSvl"
      },
      "source": [
        "Now from the validation dataset"
      ]
    },
    {
      "cell_type": "code",
      "metadata": {
        "colab_type": "code",
        "id": "xKsC2ch0nMGu",
        "outputId": "aa080095-2541-4b31-de24-aec903f18f81",
        "colab": {
          "base_uri": "https://localhost:8080/",
          "height": 462
        }
      },
      "source": [
        "for i in range(5):\n",
        "    print(\"Review:\",sequence_to_text(x_val[i]))\n",
        "    print(\"Original summary:\",sequence_to_summary(y_val[i]))\n",
        "    print(\"Predicted summary:\",summarizer(x_val[i].reshape(1,_MAX_TEXT_LEN)))\n",
        "    print(\"\\n\")"
      ],
      "execution_count": 0,
      "outputs": [
        {
          "output_type": "stream",
          "text": [
            "Review: son loves asks sees package gets special treat want cereal puffs like less sugar protein popular brands \n",
            "Original summary: perfect treat for little ones \n",
            "Predicted summary: my son loves these \n",
            "\n",
            "\n",
            "Review: good service fabulous product fresh extremely well packed definitely order \n",
            "Original summary: blue diamond almonds \n",
            "Predicted summary: excellent \n",
            "\n",
            "\n",
            "Review: min pin snickers seems enjoy heck small treats perfect size tiny little mouth thank \n",
            "Original summary: dog treats lamb \n",
            "Predicted summary: great treats \n",
            "\n",
            "\n",
            "Review: original spearmint altoids flavor favorite flavor new improved version quite nasty comparison please bring back original spearmint flavor \n",
            "Original summary: fix spearmint altoids \n",
            "Predicted summary: worst flavor ever \n",
            "\n",
            "\n",
            "Review: must say quite disappointed product order purchased product years ago remembered full bodied flavorful perfect every respect like drinking perfect cup hot chocolate product bearing name yet much different packaging look measure earlier experience still searching best cup \n",
            "Original summary: bellagio sipping chocolate \n",
            "Predicted summary: excellent product \n",
            "\n",
            "\n"
          ],
          "name": "stdout"
        }
      ]
    },
    {
      "cell_type": "markdown",
      "metadata": {
        "colab_type": "text",
        "id": "012DWqsMkEiu"
      },
      "source": [
        "So far so good, let's now build a wrapper function to try out any other sentence"
      ]
    },
    {
      "cell_type": "code",
      "metadata": {
        "colab_type": "code",
        "id": "Pqbf_mIEHzmj",
        "colab": {}
      },
      "source": [
        "def tryit(sent):\n",
        "  \"\"\"wrapper function to test the model\"\"\"\n",
        "\n",
        "  sent = cleaner(sent, remove_stopwords=True)\n",
        "  if len(sent.split()) > _MAX_TEXT_LEN:\n",
        "    return \"make your sentence length less than {} words\".format(_MAX_TEXT_LEN)\n",
        "\n",
        "  seq = tok_x.texts_to_sequences(sent.split())\n",
        "  seq = [[item for sublist in seq for item in sublist]]\n",
        "  seq = pad_sequences(seq, maxlen=_MAX_TEXT_LEN, padding=_TEXT_PADDING)\n",
        "  return summarizer(seq.reshape(1,_MAX_TEXT_LEN))"
      ],
      "execution_count": 0,
      "outputs": []
    },
    {
      "cell_type": "markdown",
      "metadata": {
        "colab_type": "text",
        "id": "ZLaO9MsWkcRn"
      },
      "source": [
        "Next comes to trying it out on a sentence. Let's see how it performs on the below text."
      ]
    },
    {
      "cell_type": "code",
      "metadata": {
        "colab_type": "code",
        "id": "fMiIqP28Hzjg",
        "colab": {}
      },
      "source": [
        "text = 'We tried the Megna for the first time last night and the food was great, freshly cooked very tasty and well presented. \\\n",
        "The waiters were attentive and service overall was good. The restaurant looked to have been recently decorated. \\\n",
        "Overall a good meal and great value we will certainly be going back.'\n",
        "\n",
        "real_summary = 'tried megna good food attentive waiters'"
      ],
      "execution_count": 0,
      "outputs": []
    },
    {
      "cell_type": "code",
      "metadata": {
        "colab_type": "code",
        "id": "MAoIGlJrnsP7",
        "outputId": "cdba65f3-9d45-4f9a-e9e8-5dd282de4f18",
        "colab": {
          "base_uri": "https://localhost:8080/",
          "height": 34
        }
      },
      "source": [
        "tryit(text)"
      ],
      "execution_count": 0,
      "outputs": [
        {
          "output_type": "execute_result",
          "data": {
            "text/plain": [
              "'great taste '"
            ]
          },
          "metadata": {
            "tags": []
          },
          "execution_count": 0
        }
      ]
    },
    {
      "cell_type": "markdown",
      "metadata": {
        "colab_type": "text",
        "id": "bRKQzq9Lksgx"
      },
      "source": [
        "Not bad, since most of the amazon's dataset had similar summaries for such reviews. Now let's split each sentence and try that out."
      ]
    },
    {
      "cell_type": "code",
      "metadata": {
        "colab_type": "code",
        "id": "kRuwwHeCnyTZ",
        "outputId": "ed68c2b2-dc60-4c1d-fa96-2a06c4e8208a",
        "colab": {
          "base_uri": "https://localhost:8080/",
          "height": 289
        }
      },
      "source": [
        "text1 = text.split('.')\n",
        "for l in text1:\n",
        "  if len(l) > 0:\n",
        "    print('text :', l.strip())\n",
        "    print('predict:', tryit(l))\n",
        "    print('\\n')"
      ],
      "execution_count": 0,
      "outputs": [
        {
          "output_type": "stream",
          "text": [
            "text : We tried the Megna for the first time last night and the food was great, freshly cooked very tasty and well presented\n",
            "predict: great taste \n",
            "\n",
            "\n",
            "text : The waiters were attentive and service overall was good\n",
            "predict: good \n",
            "\n",
            "\n",
            "text : The restaurant looked to have been recently decorated\n",
            "predict: great product \n",
            "\n",
            "\n",
            "text : Overall a good meal and great value we will certainly be going back\n",
            "predict: good value \n",
            "\n",
            "\n"
          ],
          "name": "stdout"
        }
      ]
    },
    {
      "cell_type": "markdown",
      "metadata": {
        "colab_type": "text",
        "id": "feQDev2GlA9H"
      },
      "source": [
        "It draws out the meaning atleast. Now let's try it out on more sentences."
      ]
    },
    {
      "cell_type": "code",
      "metadata": {
        "colab_type": "code",
        "id": "ZPYeUFD0HyzK",
        "outputId": "b23dced2-7747-4942-edbf-22343d7d2956",
        "colab": {
          "base_uri": "https://localhost:8080/",
          "height": 34
        }
      },
      "source": [
        "tryit('my dog was delighted to eat meat chunks')"
      ],
      "execution_count": 0,
      "outputs": [
        {
          "output_type": "execute_result",
          "data": {
            "text/plain": [
              "'dog loves it '"
            ]
          },
          "metadata": {
            "tags": []
          },
          "execution_count": 0
        }
      ]
    },
    {
      "cell_type": "code",
      "metadata": {
        "colab_type": "code",
        "id": "3FZQ4bb8UR1x",
        "outputId": "3957fce0-1a06-45aa-e4c1-92925800aaab",
        "colab": {
          "base_uri": "https://localhost:8080/",
          "height": 34
        }
      },
      "source": [
        "tryit('the food was terribly good')"
      ],
      "execution_count": 0,
      "outputs": [
        {
          "output_type": "execute_result",
          "data": {
            "text/plain": [
              "'good stuff '"
            ]
          },
          "metadata": {
            "tags": []
          },
          "execution_count": 0
        }
      ]
    },
    {
      "cell_type": "code",
      "metadata": {
        "colab_type": "code",
        "id": "kczUr3uWou2m",
        "outputId": "155611a4-8836-4b35-f101-8d0396f4a604",
        "colab": {
          "base_uri": "https://localhost:8080/",
          "height": 34
        }
      },
      "source": [
        "tryit('the food was terrible')"
      ],
      "execution_count": 0,
      "outputs": [
        {
          "output_type": "execute_result",
          "data": {
            "text/plain": [
              "'terrible '"
            ]
          },
          "metadata": {
            "tags": []
          },
          "execution_count": 0
        }
      ]
    },
    {
      "cell_type": "code",
      "metadata": {
        "colab_type": "code",
        "id": "q1KlNY-CUR0D",
        "outputId": "e3cf63d2-e1c6-4490-deb3-3160953b06d9",
        "colab": {
          "base_uri": "https://localhost:8080/",
          "height": 34
        }
      },
      "source": [
        "tryit('the food was good but bad')"
      ],
      "execution_count": 0,
      "outputs": [
        {
          "output_type": "execute_result",
          "data": {
            "text/plain": [
              "'good stuff '"
            ]
          },
          "metadata": {
            "tags": []
          },
          "execution_count": 0
        }
      ]
    },
    {
      "cell_type": "code",
      "metadata": {
        "colab_type": "code",
        "id": "_ifYomnvURvC",
        "outputId": "7d4516b3-b4f2-4eab-bfb0-42b8428483d0",
        "colab": {
          "base_uri": "https://localhost:8080/",
          "height": 34
        }
      },
      "source": [
        "tryit('the food was bad at first but finally it turned out to be otherwise')"
      ],
      "execution_count": 0,
      "outputs": [
        {
          "output_type": "execute_result",
          "data": {
            "text/plain": [
              "'not my favorite '"
            ]
          },
          "metadata": {
            "tags": []
          },
          "execution_count": 0
        }
      ]
    },
    {
      "cell_type": "code",
      "metadata": {
        "colab_type": "code",
        "id": "jdV1RCo8ekx7",
        "outputId": "c9544f2d-1640-4952-cebe-dc7671465c7a",
        "colab": {
          "base_uri": "https://localhost:8080/",
          "height": 34
        }
      },
      "source": [
        "tryit('I love maggi but couldn\\'t find any')"
      ],
      "execution_count": 0,
      "outputs": [
        {
          "output_type": "execute_result",
          "data": {
            "text/plain": [
              "'love it '"
            ]
          },
          "metadata": {
            "tags": []
          },
          "execution_count": 0
        }
      ]
    },
    {
      "cell_type": "code",
      "metadata": {
        "colab_type": "code",
        "id": "Rvw81IT6erNq",
        "outputId": "e6dbf0aa-5e1b-4034-bbee-587806332067",
        "colab": {
          "base_uri": "https://localhost:8080/",
          "height": 34
        }
      },
      "source": [
        "tryit('well to be honest the customer service is not good')"
      ],
      "execution_count": 0,
      "outputs": [
        {
          "output_type": "execute_result",
          "data": {
            "text/plain": [
              "'great service '"
            ]
          },
          "metadata": {
            "tags": []
          },
          "execution_count": 0
        }
      ]
    },
    {
      "cell_type": "code",
      "metadata": {
        "colab_type": "code",
        "id": "nF74C0cOewjR",
        "outputId": "5f433c1e-398c-4f3d-be80-6df41e565b83",
        "colab": {
          "base_uri": "https://localhost:8080/",
          "height": 34
        }
      },
      "source": [
        "tryit('bad food')"
      ],
      "execution_count": 0,
      "outputs": [
        {
          "output_type": "execute_result",
          "data": {
            "text/plain": [
              "'not bad '"
            ]
          },
          "metadata": {
            "tags": []
          },
          "execution_count": 0
        }
      ]
    },
    {
      "cell_type": "code",
      "metadata": {
        "colab_type": "code",
        "id": "iY6WOjYFey5Y",
        "outputId": "c6dcd507-c0dc-45f0-9e39-1b41a3bb5094",
        "colab": {
          "base_uri": "https://localhost:8080/",
          "height": 34
        }
      },
      "source": [
        "tryit('well the food was not that bad but certainly can be improved')"
      ],
      "execution_count": 0,
      "outputs": [
        {
          "output_type": "execute_result",
          "data": {
            "text/plain": [
              "'not that great '"
            ]
          },
          "metadata": {
            "tags": []
          },
          "execution_count": 0
        }
      ]
    },
    {
      "cell_type": "markdown",
      "metadata": {
        "colab_type": "text",
        "id": "zy7bbFN6lbh1"
      },
      "source": [
        "Well, its working quite well except for a few sentences which has a big deeper meaning or usage of both words such as 'good' and 'bad', although it gave correct answer for second sentence despite having both 'terrible' and 'good' used together."
      ]
    },
    {
      "cell_type": "markdown",
      "metadata": {
        "colab_type": "text",
        "id": "lwFo2G_3l7zI"
      },
      "source": [
        "## Conclusion"
      ]
    },
    {
      "cell_type": "markdown",
      "metadata": {
        "colab_type": "text",
        "id": "l-ThoRKHmDel"
      },
      "source": [
        "The Model is working out well but it has some flaws as mentioned above. More improvements can be done to ensure better accuracy."
      ]
    }
  ]
}